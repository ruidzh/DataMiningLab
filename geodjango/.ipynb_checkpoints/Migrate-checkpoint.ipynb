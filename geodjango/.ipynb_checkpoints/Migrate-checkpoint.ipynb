{
 "cells": [
  {
   "cell_type": "code",
   "execution_count": null,
   "metadata": {
    "collapsed": true
   },
   "outputs": [],
   "source": [
    "import os\n",
    "from django.contrib.gis.utils import LayerMapping\n",
    "from .models import CityDistrict\n",
    "\n",
    "nyc_mapping = {\n",
    "    'area' : 'shape_area',\n",
    "    'borough' : {'fip': 'county_fip'},\n",
    "    'name' : 'ntaname',\n",
    "    'shape' : 'MULTIPOLYGON',\n",
    "    'ntacode' : 'ntacode'\n",
    "}\n",
    "\n",
    "nyc_shp = os.path.abspath(\n",
    "    os.path.join(os.path.dirname(__file__), 'Neighborhood Tabulation Areas/Neighborhood Tabulation Areas.shp'),\n",
    ")\n",
    "\n",
    "def run(verbose=True):\n",
    "    lm = LayerMapping(\n",
    "        CityDistrict, nyc_shp, nyc_mapping,\n",
    "        transform=False, encoding='iso-8859-1',\n",
    "    )\n",
    "    lm.save(strict=True, verbose=verbose)"
   ]
  },
  {
   "cell_type": "code",
   "execution_count": 1,
   "metadata": {},
   "outputs": [
    {
     "name": "stdout",
     "output_type": "stream",
     "text": [
      "Migrations for 'taxi':\n",
      "  taxi\\migrations\\0004_boroughdistrict_citydistrict_district.py\n",
      "    - Create model District\n",
      "    - Create model BoroughDistrict\n",
      "    - Create model CityDistrict\n",
      "BEGIN;\n",
      "--\n",
      "-- Create model District\n",
      "--\n",
      "CREATE TABLE \"taxi_district\" (\"id\" serial NOT NULL PRIMARY KEY, \"name\" varchar(256) NOT NULL, \"center\" geometry(POINT,4326) NULL, \"shape\" geometry(MULTIPOLYGON,4326) NOT NULL);\n",
      "--\n",
      "-- Create model BoroughDistrict\n",
      "--\n",
      "CREATE TABLE \"taxi_boroughdistrict\" (\"district_ptr_id\" integer NOT NULL PRIMARY KEY, \"fip\" varchar(5) NOT NULL);\n",
      "--\n",
      "-- Create model CityDistrict\n",
      "--\n",
      "CREATE TABLE \"taxi_citydistrict\" (\"district_ptr_id\" integer NOT NULL PRIMARY KEY, \"ntacode\" varchar(5) NOT NULL, \"area\" double precision NOT NULL, \"borough_id\" integer NOT NULL);\n",
      "CREATE INDEX \"taxi_district_center_id\" ON \"taxi_district\"USING GIST (\"center\");\n",
      "CREATE INDEX \"taxi_district_shape_id\" ON \"taxi_district\"USING GIST (\"shape\");\n",
      "ALTER TABLE \"taxi_boroughdistrict\" ADD CONSTRAINT \"taxi_boroughdistrict_district_ptr_id_71dda677_fk_taxi_dist\" FOREIGN KEY (\"district_ptr_id\") REFERENCES \"taxi_district\" (\"id\") DEFERRABLE INITIALLY DEFERRED;\n",
      "ALTER TABLE \"taxi_citydistrict\" ADD CONSTRAINT \"taxi_citydistrict_district_ptr_id_b37e156e_fk_taxi_district_id\" FOREIGN KEY (\"district_ptr_id\") REFERENCES \"taxi_district\" (\"id\") DEFERRABLE INITIALLY DEFERRED;\n",
      "ALTER TABLE \"taxi_citydistrict\" ADD CONSTRAINT \"taxi_citydistrict_borough_id_8ec80a09_fk_taxi_boro\" FOREIGN KEY (\"borough_id\") REFERENCES \"taxi_boroughdistrict\" (\"district_ptr_id\") DEFERRABLE INITIALLY DEFERRED;\n",
      "CREATE INDEX \"taxi_citydistrict_borough_id_8ec80a09\" ON \"taxi_citydistrict\" (\"borough_id\");\n",
      "COMMIT;\n"
     ]
    }
   ],
   "source": [
    "%run -i \"manage.py\" makemigrations\n",
    "%run -i \"manage.py\" sqlmigrate taxi 0004"
   ]
  },
  {
   "cell_type": "code",
   "execution_count": 2,
   "metadata": {},
   "outputs": [
    {
     "name": "stdout",
     "output_type": "stream",
     "text": [
      "Operations to perform:\n",
      "  Apply all migrations: admin, auth, contenttypes, reversion, sessions, taxi, xadmin\n",
      "Running migrations:\n",
      "  Applying taxi.0004_boroughdistrict_citydistrict_district... OK\n"
     ]
    }
   ],
   "source": [
    "%run -i \"manage.py\" migrate"
   ]
  },
  {
   "cell_type": "code",
   "execution_count": null,
   "metadata": {
    "collapsed": true
   },
   "outputs": [],
   "source": []
  }
 ],
 "metadata": {
  "anaconda-cloud": {},
  "kernelspec": {
   "display_name": "Python [conda env:python34]",
   "language": "python",
   "name": "conda-env-python34-py"
  },
  "language_info": {
   "codemirror_mode": {
    "name": "ipython",
    "version": 3
   },
   "file_extension": ".py",
   "mimetype": "text/x-python",
   "name": "python",
   "nbconvert_exporter": "python",
   "pygments_lexer": "ipython3",
   "version": "3.4.5"
  }
 },
 "nbformat": 4,
 "nbformat_minor": 2
}
