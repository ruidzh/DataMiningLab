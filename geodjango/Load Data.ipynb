{
 "cells": [
  {
   "cell_type": "markdown",
   "metadata": {},
   "source": [
    "# Load Taxi Trips"
   ]
  },
  {
   "cell_type": "code",
   "execution_count": 2,
   "metadata": {},
   "outputs": [
    {
     "name": "stdout",
     "output_type": "stream",
     "text": [
      "D:\\DataMiningLab\\geodjango\n"
     ]
    }
   ],
   "source": [
    "import sys\n",
    "import os\n",
    "\n",
    "pwd = os.path.dirname(os.path.realpath('__file__'))\n",
    "print(pwd)\n",
    "\n",
    "sys.path.append(pwd + \"../\")\n",
    "os.environ.setdefault(\"DJANGO_SETTINGS_MODULE\", \"geodjango.settings\")\n",
    "import django\n",
    "django.setup()"
   ]
  },
  {
   "cell_type": "code",
   "execution_count": null,
   "metadata": {
    "collapsed": true
   },
   "outputs": [],
   "source": [
    "import pandas as pd\n",
    "#import dask.dataframe as dd\n",
    "from taxi.models import Trip\n",
    "import numbers\n",
    "from django.contrib.gis.geos import Point\n",
    "#Trip.objects.all().delete()\n",
    "def getPoint(lon,lat):\n",
    "    return Point(lon,lat) if (isinstance(lon,numbers.Real) and lon != 0) else None# return Point(lon,lat)#row['Pickup_longitude'],row['Pickup_latitude'] )#\n",
    "flag = {'Y': True, 'N': False}\n",
    "\n",
    "def csv_row_processing(rows):\n",
    "    rows['lpep_pickup_datetime'] = pd.to_datetime(rows['lpep_pickup_datetime'], format=\"%m/%d/%Y %I:%M:%S %p\")# infer_datetime_format=True)\n",
    "    rows['Lpep_dropoff_datetime'] = pd.to_datetime(rows['Lpep_dropoff_datetime'], format=\"%m/%d/%Y %I:%M:%S %p\")#, infer_datetime_format=True)\n",
    "    rows['Store_and_fwd_flag'] = rows['Store_and_fwd_flag'].map(flag)\n",
    "    rows['Pickup'] = list(map(getPoint, rows['Pickup_longitude'], rows['Pickup_latitude']))\n",
    "    rows['Dropoff'] = list(map(getPoint, rows['Dropoff_longitude'], rows['Dropoff_latitude']))\n",
    "    rows['Trip_type '] = rows['Trip_type '].where((pd.notnull(rows['Trip_type '])), None)\n",
    "    rows['PULocationID'] = rows['PULocationID'].where((pd.notnull(rows['PULocationID'])), None)\n",
    "    rows['DOLocationID'] = rows['DOLocationID'].where((pd.notnull(rows['DOLocationID'])), None)\n",
    "    return rows\n",
    "\n",
    "def create_in_db(chunk):\n",
    "    chunk=csv_row_processing(chunk).to_dict('records')\n",
    "    Trip.objects.bulk_create([Trip(\n",
    "        vendorID=row['VendorID'],\n",
    "        pickupTime = row['lpep_pickup_datetime'],\n",
    "        dropoffTime = row['Lpep_dropoff_datetime'],\n",
    "        storeAndFwdFlag = row['Store_and_fwd_flag'],\n",
    "        rateCodeID = row['RateCodeID'],\n",
    "        pickupPoint = row['Pickup'], #Point(row['Pickup_longitude'],row['Pickup_latitude']) if (isinstance(row['Pickup_longitude'],numbers.Real) and row['Pickup_longitude'] != 0) else None,#,\n",
    "        dropoffPoint = row['Dropoff'],#Point(row['Dropoff_longitude'],row['Dropoff_latitude']) if (isinstance(row['Dropoff_longitude'],numbers.Real) and row['Dropoff_longitude'] != 0) else None,#,\n",
    "        passengerCount = row['Passenger_count'],\n",
    "        tripDistance = row['Trip_distance'],# in miles\n",
    "        fareAmount = row['Fare_amount'],\n",
    "        extra = row['Extra'],\n",
    "        MTATax = row['MTA_tax'],\n",
    "        tipAmount = row['Tip_amount'],\n",
    "        tolls_amount = row['Tolls_amount'],\n",
    "        improvementSurcharge = row['improvement_surcharge'],\n",
    "        totalAmount = row['Total_amount'],\n",
    "        paymentType = row['Payment_type'],\n",
    "        tripType = row['Trip_type '],\n",
    "        PULocationID = row['PULocationID'],\n",
    "        DOLocationID = row['DOLocationID']) for row in chunk])\n",
    "\n",
    "i=0\n",
    "for chunk in pd.read_csv('../2016_Green_Taxi_Trip_Data.csv', chunksize=10 ** 4):\n",
    "    if i<0:\n",
    "        i=i+1\n",
    "        continue\n",
    "    create_in_db(chunk)\n",
    "    del chunk\n",
    "    i=i+1\n",
    "    print(str(i) + '0000 records loaded.')\n",
    "    if (i>300):\n",
    "        break"
   ]
  },
  {
   "cell_type": "code",
   "execution_count": 27,
   "metadata": {},
   "outputs": [
    {
     "name": "stdout",
     "output_type": "stream",
     "text": [
      "Index(['VendorID', 'lpep_pickup_datetime', 'Lpep_dropoff_datetime',\n",
      "       'Store_and_fwd_flag', 'RateCodeID', 'Pickup_longitude',\n",
      "       'Pickup_latitude', 'Dropoff_longitude', 'Dropoff_latitude',\n",
      "       'Passenger_count', 'Trip_distance', 'Fare_amount', 'Extra', 'MTA_tax',\n",
      "       'Tip_amount', 'Tolls_amount', 'Ehail_fee', 'improvement_surcharge',\n",
      "       'Total_amount', 'Payment_type', 'Trip_type ', 'PULocationID',\n",
      "       'DOLocationID', 'Pickup', 'Dropoff'],\n",
      "      dtype='object')\n"
     ]
    }
   ],
   "source": [
    "print(chunk.columns)"
   ]
  },
  {
   "cell_type": "markdown",
   "metadata": {},
   "source": [
    "# Load Districts Information and Project Lat-Lon"
   ]
  },
  {
   "cell_type": "code",
   "execution_count": 5,
   "metadata": {},
   "outputs": [
    {
     "name": "stdout",
     "output_type": "stream",
     "text": [
      "Layer \"Neighborhood Tabulation Areas\": 195 Polygons\n",
      "GEOGCS[\"WGS84(DD)\",\n",
      "    DATUM[\"WGS84\",\n",
      "        SPHEROID[\"WGS84\",6378137.0,298.257223563]],\n",
      "    PRIMEM[\"Greenwich\",0.0],\n",
      "    UNIT[\"degree\",0.017453292519943295],\n",
      "    AXIS[\"Geodetic longitude\",EAST],\n",
      "    AXIS[\"Geodetic latitude\",NORTH],\n",
      "    AUTHORITY[\"EPSG\",\"4326\"]]\n",
      "['shape_area', 'ntacode', 'boro_name', 'boro_code', 'county_fip', 'shape_leng', 'ntaname']\n"
     ]
    }
   ],
   "source": [
    "from django.contrib.gis.gdal import DataSource\n",
    "ds = DataSource('taxi/data/Neighborhood Tabulation Areas/Neighborhood Tabulation Areas.shp')\n",
    "lyr = ds[0]\n",
    "print('Layer \"%s\": %i %ss' % (lyr.name, len(lyr), lyr.geom_type.name))\n",
    "print(lyr.srs)\n",
    "print(lyr.fields)"
   ]
  },
  {
   "cell_type": "code",
   "execution_count": 6,
   "metadata": {},
   "outputs": [
    {
     "name": "stdout",
     "output_type": "stream",
     "text": [
      "Borough Park 130 54005019.0709\n",
      "East Flushing 93 29454379.9879\n",
      "Auburndale 189 34164217.5747\n",
      "Murray Hill 121 52488277.0737\n",
      "East Elmhurst 113 19726845.7031\n",
      "Morrisania-Melrose 163 16891753.3272\n",
      "Hollis 102 22887772.8652\n",
      "Manhattanville 115 10647077.4569\n",
      "Springfield Gardens North 97 28428436.9058\n",
      "Bayside-Bayside Hills 335 80797535.8598\n",
      "Homecrest 82 29991967.0019\n",
      "Westchester-Unionport 221 23945209.7754\n",
      "Fresh Meadows-Utopia 110 27774853.486\n",
      "Turtle Bay-East Midtown 234 17393274.6626\n",
      "St. Albans 214 77412748.0547\n",
      "Corona 109 20080371.464\n",
      "Jamaica Estates-Holliswood 293 42789975.8462\n",
      "Madison 91 27379162.2715\n",
      "Kensington-Ocean Parkway 76 15893304.9555\n",
      "Erasmus 54 14522603.5915\n",
      "Longwood 67 10732452.208\n",
      "Clinton Hill 104 20528197.1221\n",
      "Sheepshead Bay-Gerritsen Beach-Manhattan Beach 1802 63342329.146\n",
      "Jamaica 328 47308036.5451\n",
      "South Jamaica 156 39971928.768\n",
      "Pelham Bay-Country Club-City Island 2822 40137499.0301\n",
      "Cambria Heights 109 33076797.8361\n",
      "Astoria 189 39334607.424\n",
      "Midwood 92 35799574.385\n",
      "Gravesend 276 31341950.2811\n",
      "Bensonhurst East 186 35777947.5716\n",
      "East Williamsburg 693 39142935.5087\n",
      "Williamsburg 82 11589988.1365\n",
      "Bedford 125 32629788.989\n",
      "Stuyvesant Heights 174 31406935.853\n",
      "Ocean Hill 148 20089914.373\n",
      "Crown Heights North 135 51619074.7032\n",
      "Crown Heights South 66 15989888.7882\n",
      "Rugby-Remsen Village 113 32706946.2815\n",
      "Allerton-Pelham Gardens 132 31693044.323\n",
      "Starrett City 518 11598952.3241\n",
      "East Flatbush-Farragut 141 34360864.2711\n",
      "Bushwick South 255 40169452.0747\n",
      "Bushwick North 148 24927927.1904\n",
      "Ridgewood 180 50495176.3432\n",
      "Mount Hope 81 14716710.0806\n",
      "Ocean Parkway South 74 17782095.7562\n",
      "Van Nest-Morris Park-Westchester Square 257 36303229.2076\n",
      "Fort Greene 112 16482821.4932\n",
      "Fordham South 73 6308875.00911\n",
      "Lenox Hill-Roosevelt Island 236 21501468.9073\n",
      "Queensbridge-Ravenswood-Long Island City 162 23317033.3468\n",
      "Oakland Gardens 246 51013693.6659\n",
      "Pelham Parkway 130 23031132.0149\n",
      "West Farms-Bronx River 116 15084986.1763\n",
      "Parkchester 60 9184677.03822\n",
      "Soundview-Bruckner 123 16253358.2846\n",
      "Bedford Park-Fordham North 130 14998883.121\n",
      "Norwood 138 15724928.3279\n",
      "Grymes Hill-Clifton-Fox Hills 219 37752556.4095\n",
      "Dyker Heights 98 29911047.2738\n",
      "Hamilton Heights 108 16093787.8907\n",
      "West Brighton 88 8738768.95508\n",
      "Glendale 180 30016735.809\n",
      "Belmont 105 13557215.9909\n",
      "Van Cortlandt Village 138 25666125.2367\n",
      "West Concourse 210 19386642.2072\n",
      "Old Astoria 97 15620336.2503\n",
      "Pomonok-Flushing Heights-Hillcrest 222 38835956.594\n",
      "Brooklyn Heights-Cobble Hill 111 9984445.53989\n",
      "park-cemetery-etc-Staten Island 630 24004477.6771\n",
      "Clinton 188 18381385.7058\n",
      "East Harlem South 187 16650687.3949\n",
      "Rego Park 125 19941713.5046\n",
      "North Corona 80 18000833.5597\n",
      "Queens Village 205 69533432.8235\n",
      "Bellerose 169 55184284.5581\n",
      "Middle Village 201 57684905.4349\n",
      "Elmhurst 233 32675347.5693\n",
      "Laurelton 132 39784922.5794\n",
      "Woodlawn-Wakefield 275 39738786.204\n",
      "Breezy Point-Belle Harbor-Rockaway Park-Broad Channel 1317 99436036.917\n",
      "Ft. Totten-Bay Terrace-Clearview 382 46293660.2782\n",
      "Whitestone 3468 69042954.1115\n",
      "Hammels-Arverne-Edgemere 4656 61895185.5997\n",
      "Far Rockaway-Bayswater 2117 54160478.9343\n",
      "Bronxdale 115 15185447.5686\n",
      "East New York (Pennsylvania Ave) 99 19397526.5804\n",
      "South Ozone Park 154 82461392.6911\n",
      "Bath Beach 113 20534620.814\n",
      "Bensonhurst West 141 46670569.5071\n",
      "Springfield Gardens South-Brookville 210 43260466.3884\n",
      "Baisley Park 162 44042791.4201\n",
      "Maspeth 272 35633161.2864\n",
      "Elmhurst-Maspeth 241 21927665.9348\n",
      "College Point 1688 50560006.0043\n",
      "Kew Gardens Hills 262 37888713.6549\n",
      "Greenpoint 470 35326550.4933\n",
      "Hunters Point-Sunnyside-West Maspeth 1778 102348656.301\n",
      "Woodside 223 28248218.6864\n",
      "Kingsbridge Heights 173 13163059.8972\n",
      "University Heights-Morris Heights 212 21255544.7508\n",
      "Rikers Island 499 18163827.4934\n",
      "Cypress Hills-City Line 196 27609750.732\n",
      "Stapleton-Rosebank 425 46528815.1377\n",
      "Mariner's Harbor-Arlington-Port Ivory-Graniteville 1776 89049068.6823\n",
      "SoHo-TriBeCa-Civic Center-Little Italy 157 25032621.1708\n",
      "Upper West Side 176 34380562.3621\n",
      "Arden Heights 180 50410815.8531\n",
      "Rosedale 1001 61593421.8646\n",
      "East Harlem North 337 24494874.4304\n",
      "Charleston-Richmond Valley-Tottenville 2148 145668120.502\n",
      "Rossville-Woodrow 246 64963627.2601\n",
      "Grasmere-Arrochar-Ft. Wadsworth 275 40944767.857\n",
      "Old Town-Dongan Hills-South Beach 446 67009417.7946\n",
      "Williamsbridge-Olinville 147 36273595.3921\n",
      "Port Richmond 323 36421044.0486\n",
      "North Side-South Side 219 28869767.9762\n",
      "Brownsville 155 32719365.8601\n",
      "Westerleigh 218 63253932.245\n",
      "Schuylerville-Throgs Neck-Edgewater Park 2216 88439964.0442\n",
      "Richmond Hill 161 50978396.1717\n",
      "Flushing 194 37864283.8772\n",
      "Queensboro Hill 217 26561788.1978\n",
      "Chinatown 181 14501868.1464\n",
      "Washington Heights North 417 22666574.6048\n",
      "Washington Heights South 352 23094569.4929\n",
      "Steinway 1507 57771697.6761\n",
      "Annadale-Huguenot-Prince's Bay-Eltingville 829 141057787.651\n",
      "Battery Park City-Lower Manhattan 722 19002741.9434\n",
      "Forest Hills 192 57827751.6644\n",
      "park-cemetery-etc-Queens 8182 311645836.222\n",
      "Lincoln Square 181 15805586.3057\n",
      "Midtown-Midtown South 104 30191534.1073\n",
      "Hudson Yards-Chelsea-Flatiron-Union Square 403 37029722.0476\n",
      "Yorkville 132 13602064.236\n",
      "Upper East Side-Carnegie Hill 93 20065364.1051\n",
      "Sunset Park East 101 27125857.2811\n",
      "Woodhaven 110 37000431.4008\n",
      "Ozone Park 106 25028982.1598\n",
      "Oakwood-Oakwood Beach 252 55956539.6982\n",
      "Great Kills 1391 89615893.8147\n",
      "Prospect Lefferts Gardens-Wingate 90 31638973.1845\n",
      "Highbridge 157 16457635.4194\n",
      "Central Harlem North-Polo Grounds 318 25405307.1892\n",
      "Morningside Heights 150 20155869.4976\n",
      "Central Harlem South 80 14439304.7011\n",
      "Brighton Beach 163 17179308.1047\n",
      "Seagate-Coney Island 586 38782185.6317\n",
      "New Dorp-Midland Beach 210 55434795.3523\n",
      "Murray Hill-Kips Bay 283 14485890.5945\n",
      "Gramercy 62 7526880.5555\n",
      "Stuyvesant Town-Cooper Village 207 5581768.40929\n",
      "New Springville-Bloomfield-Travis 2178 327765030.095\n",
      "Todt Hill-Emerson Hill-Heartland Village-Lighthouse Hill 531 184885014.585\n",
      "DUMBO-Vinegar Hill-Downtown Brooklyn-Boerum Hill 281 28477093.6731\n",
      "Lower East Side 235 23298211.3957\n",
      "West New Brighton-New Brighton-St. George 662 56055453.367\n",
      "New Brighton-Silver Lake 164 47137243.9431\n",
      "East New York 613 117055750.254\n",
      "Lindenwood-Howard Beach 1557 63976110.7103\n",
      "Claremont-Bathgate 147 16451616.4096\n",
      "North Riverdale-Fieldston-Riverdale 229 49048279.1082\n",
      "Spuyten Duyvil-Kingsbridge 249 23214112.7406\n",
      "Melrose South-Mott Haven North 150 17271780.8421\n",
      "Mott Haven-Port Morris 362 41901655.3133\n",
      "Eastchester-Edenwald-Baychester 285 40256793.6533\n",
      "Co-op City 113 39833694.884\n",
      "Windsor Terrace 134 14041668.0662\n",
      "park-cemetery-etc-Brooklyn 14887 228902676.847\n",
      "Prospect Heights 93 10230580.6279\n",
      "Marble Hill-Inwood 1216 17732830.8654\n",
      "park-cemetery-etc-Manhattan 2031 91540735.8031\n",
      "Hunts Point 481 49729963.2371\n",
      "East Concourse-Concourse Village 213 18215576.9081\n",
      "Georgetown-Marine Park-Bergen Beach-Mill Basin 2237 69330375.0856\n",
      "Canarsie 826 82098856.5116\n",
      "Flatbush 148 45254807.5045\n",
      "Flatlands 177 54341776.2595\n",
      "Bay Ridge 333 67119994.1784\n",
      "Sunset Park West 599 50064219.3607\n",
      "Glen Oaks-Floral Park-New Hyde Park 146 45666940.6586\n",
      "Douglas Manor-Douglaston-Little Neck 665 68378150.5128\n",
      "Briarwood-Jamaica Hills 219 29301607.0735\n",
      "Kew Gardens 186 20568333.5309\n",
      "Carroll Gardens-Columbia Street-Red Hook 474 44600666.1421\n",
      "Park Slope-Gowanus 201 42509233.062\n",
      "East Tremont 165 19255163.185\n",
      "Crotona Park East 188 16319724.9738\n",
      "East Village 66 10893031.15\n",
      "West Village 206 25004819.303\n",
      "Soundview-Castle Hill-Clason Point-Harding Park 926 51983803.7408\n",
      "park-cemetery-etc-Bronx 1918 220841823.79\n",
      "Jackson Heights 207 47856882.6802\n",
      "Airport 3196 227759005.093\n"
     ]
    }
   ],
   "source": [
    "for feat in lyr:\n",
    "    print(feat.get('ntaname'), feat.geom.num_points,feat.get('shape_area'))"
   ]
  },
  {
   "cell_type": "code",
   "execution_count": null,
   "metadata": {
    "collapsed": true
   },
   "outputs": [],
   "source": [
    "from taxi.models import Tripset, CityDistrict, BoroughDistrict\n",
    "t = Tripset.objects.all().get()\n",
    "trips = t.trips.all()\n",
    "city = CityDistrict.objects.all()\n",
    "boro = BoroughDistrict.objects.all()"
   ]
  },
  {
   "cell_type": "code",
   "execution_count": 18,
   "metadata": {},
   "outputs": [
    {
     "data": {
      "text/plain": [
       "<QuerySet [<BoroughDistrict: BoroughDistrict object>, <BoroughDistrict: BoroughDistrict object>, <BoroughDistrict: BoroughDistrict object>, <BoroughDistrict: BoroughDistrict object>, <BoroughDistrict: BoroughDistrict object>, <BoroughDistrict: BoroughDistrict object>, <BoroughDistrict: BoroughDistrict object>, <BoroughDistrict: BoroughDistrict object>, <BoroughDistrict: BoroughDistrict object>, <BoroughDistrict: BoroughDistrict object>, <BoroughDistrict: BoroughDistrict object>, <BoroughDistrict: BoroughDistrict object>, <BoroughDistrict: BoroughDistrict object>, <BoroughDistrict: BoroughDistrict object>, <BoroughDistrict: BoroughDistrict object>, <BoroughDistrict: BoroughDistrict object>, <BoroughDistrict: BoroughDistrict object>, <BoroughDistrict: BoroughDistrict object>, <BoroughDistrict: BoroughDistrict object>, <BoroughDistrict: BoroughDistrict object>, '...(remaining elements truncated)...']>"
      ]
     },
     "execution_count": 18,
     "metadata": {},
     "output_type": "execute_result"
    }
   ],
   "source": [
    "trips\n",
    "city\n",
    "boro"
   ]
  },
  {
   "cell_type": "code",
   "execution_count": 28,
   "metadata": {},
   "outputs": [
    {
     "data": {
      "text/plain": [
       "<GeoQuerySet [{'storeAndFwdFlag': False, 'pickupTime': datetime.datetime(2016, 1, 1, 3, 6, 48), 'dropoffPoint': <Point object at 0x10c57210>, 'tripType': 1, 'DOLocationID': None, 'paymentType': 1, 'tipAmount': Decimal('3.16'), 'rateCodeID': 1, 'extra': Decimal('0.50'), 'pickup_district': 'Jamaica', 'MTATax': Decimal('0.50'), 'dropoffTime': datetime.datetime(2016, 1, 1, 3, 14, 50), 'tolls_amount': Decimal('0.00'), 'tripDistance': Decimal('4.68'), 'pickupPoint': <Point object at 0x11027510>, 'totalAmount': Decimal('18.96'), 'passengerCount': 1, 'improvementSurcharge': Decimal('0.30'), 'PULocationID': None, 'id': 1035089, 'fareAmount': Decimal('14.50'), 'vendorID': 2}, {'storeAndFwdFlag': False, 'pickupTime': datetime.datetime(2016, 1, 1, 3, 1, 51), 'dropoffPoint': <Point object at 0x10c57410>, 'tripType': 1, 'DOLocationID': None, 'paymentType': 1, 'tipAmount': Decimal('2.36'), 'rateCodeID': 1, 'extra': Decimal('0.50'), 'pickup_district': 'East Williamsburg', 'MTATax': Decimal('0.50'), 'dropoffTime': datetime.datetime(2016, 1, 1, 3, 15, 37), 'tolls_amount': Decimal('0.00'), 'tripDistance': Decimal('1.83'), 'pickupPoint': <Point object at 0x10c57310>, 'totalAmount': Decimal('14.16'), 'passengerCount': 1, 'improvementSurcharge': Decimal('0.30'), 'PULocationID': None, 'id': 1035090, 'fareAmount': Decimal('10.50'), 'vendorID': 2}, {'storeAndFwdFlag': False, 'pickupTime': datetime.datetime(2016, 1, 1, 3, 1, 30), 'dropoffPoint': <Point object at 0x10c57610>, 'tripType': 1, 'DOLocationID': None, 'paymentType': 2, 'tipAmount': Decimal('0.00'), 'rateCodeID': 1, 'extra': Decimal('0.50'), 'pickup_district': 'Prospect Heights', 'MTATax': Decimal('0.50'), 'dropoffTime': datetime.datetime(2016, 1, 1, 3, 15, 5), 'tolls_amount': Decimal('0.00'), 'tripDistance': Decimal('2.74'), 'pickupPoint': <Point object at 0x10c57510>, 'totalAmount': Decimal('13.30'), 'passengerCount': 5, 'improvementSurcharge': Decimal('0.30'), 'PULocationID': None, 'id': 1035091, 'fareAmount': Decimal('12.00'), 'vendorID': 2}, {'storeAndFwdFlag': False, 'pickupTime': datetime.datetime(2016, 1, 1, 3, 5, 54), 'dropoffPoint': <Point object at 0x10c57810>, 'tripType': 1, 'DOLocationID': None, 'paymentType': 2, 'tipAmount': Decimal('0.00'), 'rateCodeID': 1, 'extra': Decimal('0.50'), 'pickup_district': 'Carroll Gardens-Columbia Street-Red Hook', 'MTATax': Decimal('0.50'), 'dropoffTime': datetime.datetime(2016, 1, 1, 3, 15, 2), 'tolls_amount': Decimal('0.00'), 'tripDistance': Decimal('1.28'), 'pickupPoint': <Point object at 0x10c57710>, 'totalAmount': Decimal('9.30'), 'passengerCount': 6, 'improvementSurcharge': Decimal('0.30'), 'PULocationID': None, 'id': 1035092, 'fareAmount': Decimal('8.00'), 'vendorID': 2}, {'storeAndFwdFlag': False, 'pickupTime': datetime.datetime(2016, 1, 1, 3, 9, 20), 'dropoffPoint': <Point object at 0x10c57a10>, 'tripType': 1, 'DOLocationID': None, 'paymentType': 2, 'tipAmount': Decimal('0.00'), 'rateCodeID': 1, 'extra': Decimal('0.50'), 'pickup_district': 'East Harlem North', 'MTATax': Decimal('0.50'), 'dropoffTime': datetime.datetime(2016, 1, 1, 3, 15, 33), 'tolls_amount': Decimal('0.00'), 'tripDistance': Decimal('2.59'), 'pickupPoint': <Point object at 0x10c57910>, 'totalAmount': Decimal('10.80'), 'passengerCount': 1, 'improvementSurcharge': Decimal('0.30'), 'PULocationID': None, 'id': 1035093, 'fareAmount': Decimal('9.50'), 'vendorID': 2}, {'storeAndFwdFlag': False, 'pickupTime': datetime.datetime(2016, 1, 1, 3, 11, 34), 'dropoffPoint': <Point object at 0x10c57c10>, 'tripType': 1, 'DOLocationID': None, 'paymentType': 1, 'tipAmount': Decimal('1.26'), 'rateCodeID': 1, 'extra': Decimal('0.50'), 'pickup_district': 'Ridgewood', 'MTATax': Decimal('0.50'), 'dropoffTime': datetime.datetime(2016, 1, 1, 3, 15, 33), 'tolls_amount': Decimal('0.00'), 'tripDistance': Decimal('0.80'), 'pickupPoint': <Point object at 0x10c57b10>, 'totalAmount': Decimal('7.56'), 'passengerCount': 1, 'improvementSurcharge': Decimal('0.30'), 'PULocationID': None, 'id': 1035094, 'fareAmount': Decimal('5.00'), 'vendorID': 2}, {'storeAndFwdFlag': False, 'pickupTime': datetime.datetime(2016, 1, 1, 3, 13, 6), 'dropoffPoint': <Point object at 0x10c57e10>, 'tripType': 1, 'DOLocationID': None, 'paymentType': 2, 'tipAmount': Decimal('0.00'), 'rateCodeID': 1, 'extra': Decimal('0.50'), 'pickup_district': 'North Side-South Side', 'MTATax': Decimal('0.50'), 'dropoffTime': datetime.datetime(2016, 1, 1, 3, 15, 22), 'tolls_amount': Decimal('0.00'), 'tripDistance': Decimal('0.23'), 'pickupPoint': <Point object at 0x10c57d10>, 'totalAmount': Decimal('4.80'), 'passengerCount': 1, 'improvementSurcharge': Decimal('0.30'), 'PULocationID': None, 'id': 1035095, 'fareAmount': Decimal('3.50'), 'vendorID': 2}, {'storeAndFwdFlag': False, 'pickupTime': datetime.datetime(2016, 1, 1, 3, 7, 5), 'dropoffPoint': <Point object at 0x10c5a090>, 'tripType': 1, 'DOLocationID': None, 'paymentType': 2, 'tipAmount': Decimal('0.00'), 'rateCodeID': 1, 'extra': Decimal('0.50'), 'pickup_district': 'Woodside', 'MTATax': Decimal('0.50'), 'dropoffTime': datetime.datetime(2016, 1, 1, 3, 14, 46), 'tolls_amount': Decimal('0.00'), 'tripDistance': Decimal('3.71'), 'pickupPoint': <Point object at 0x10c57f10>, 'totalAmount': Decimal('12.80'), 'passengerCount': 1, 'improvementSurcharge': Decimal('0.30'), 'PULocationID': None, 'id': 1035096, 'fareAmount': Decimal('11.50'), 'vendorID': 2}, {'storeAndFwdFlag': False, 'pickupTime': datetime.datetime(2016, 1, 1, 3, 9, 6), 'dropoffPoint': <Point object at 0x10c5a290>, 'tripType': 1, 'DOLocationID': None, 'paymentType': 1, 'tipAmount': Decimal('1.46'), 'rateCodeID': 1, 'extra': Decimal('0.50'), 'pickup_district': 'Elmhurst', 'MTATax': Decimal('0.50'), 'dropoffTime': datetime.datetime(2016, 1, 1, 3, 15, 46), 'tolls_amount': Decimal('0.00'), 'tripDistance': Decimal('0.64'), 'pickupPoint': <Point object at 0x10c5a190>, 'totalAmount': Decimal('8.76'), 'passengerCount': 1, 'improvementSurcharge': Decimal('0.30'), 'PULocationID': None, 'id': 1035097, 'fareAmount': Decimal('6.00'), 'vendorID': 2}, {'storeAndFwdFlag': False, 'pickupTime': datetime.datetime(2016, 1, 1, 3, 4, 53), 'dropoffPoint': <Point object at 0x10c5a490>, 'tripType': 1, 'DOLocationID': None, 'paymentType': 2, 'tipAmount': Decimal('0.00'), 'rateCodeID': 1, 'extra': Decimal('0.50'), 'pickup_district': 'Stuyvesant Heights', 'MTATax': Decimal('0.50'), 'dropoffTime': datetime.datetime(2016, 1, 1, 3, 16, 10), 'tolls_amount': Decimal('0.00'), 'tripDistance': Decimal('1.73'), 'pickupPoint': <Point object at 0x10c5a390>, 'totalAmount': Decimal('9.30'), 'passengerCount': 1, 'improvementSurcharge': Decimal('0.30'), 'PULocationID': None, 'id': 1035098, 'fareAmount': Decimal('8.00'), 'vendorID': 2}, {'storeAndFwdFlag': False, 'pickupTime': datetime.datetime(2016, 1, 1, 3, 4, 13), 'dropoffPoint': <Point object at 0x10c5a690>, 'tripType': 1, 'DOLocationID': None, 'paymentType': 1, 'tipAmount': Decimal('2.36'), 'rateCodeID': 1, 'extra': Decimal('0.50'), 'pickup_district': 'Bushwick South', 'MTATax': Decimal('0.50'), 'dropoffTime': datetime.datetime(2016, 1, 1, 3, 15, 53), 'tolls_amount': Decimal('0.00'), 'tripDistance': Decimal('2.19'), 'pickupPoint': <Point object at 0x10c5a590>, 'totalAmount': Decimal('14.16'), 'passengerCount': 1, 'improvementSurcharge': Decimal('0.30'), 'PULocationID': None, 'id': 1035099, 'fareAmount': Decimal('10.50'), 'vendorID': 2}, {'storeAndFwdFlag': False, 'pickupTime': datetime.datetime(2016, 1, 1, 3, 4, 58), 'dropoffPoint': <Point object at 0x10c5a890>, 'tripType': 1, 'DOLocationID': None, 'paymentType': 1, 'tipAmount': Decimal('3.00'), 'rateCodeID': 1, 'extra': Decimal('0.50'), 'pickup_district': 'East Harlem North', 'MTATax': Decimal('0.50'), 'dropoffTime': datetime.datetime(2016, 1, 1, 3, 15, 17), 'tolls_amount': Decimal('0.00'), 'tripDistance': Decimal('5.36'), 'pickupPoint': <Point object at 0x10c5a790>, 'totalAmount': Decimal('20.80'), 'passengerCount': 3, 'improvementSurcharge': Decimal('0.30'), 'PULocationID': None, 'id': 1035100, 'fareAmount': Decimal('16.50'), 'vendorID': 2}, {'storeAndFwdFlag': False, 'pickupTime': datetime.datetime(2016, 1, 1, 3, 11, 58), 'dropoffPoint': <Point object at 0x10c5aa90>, 'tripType': 1, 'DOLocationID': None, 'paymentType': 2, 'tipAmount': Decimal('0.00'), 'rateCodeID': 1, 'extra': Decimal('0.50'), 'pickup_district': 'DUMBO-Vinegar Hill-Downtown Brooklyn-Boerum Hill', 'MTATax': Decimal('0.50'), 'dropoffTime': datetime.datetime(2016, 1, 1, 3, 15, 50), 'tolls_amount': Decimal('0.00'), 'tripDistance': Decimal('0.97'), 'pickupPoint': <Point object at 0x10c5a990>, 'totalAmount': Decimal('6.30'), 'passengerCount': 1, 'improvementSurcharge': Decimal('0.30'), 'PULocationID': None, 'id': 1035101, 'fareAmount': Decimal('5.00'), 'vendorID': 2}, {'storeAndFwdFlag': False, 'pickupTime': datetime.datetime(2016, 1, 1, 3, 1, 18), 'dropoffPoint': <Point object at 0x10c5ac90>, 'tripType': 1, 'DOLocationID': None, 'paymentType': 1, 'tipAmount': Decimal('3.16'), 'rateCodeID': 1, 'extra': Decimal('0.50'), 'pickup_district': 'Astoria', 'MTATax': Decimal('0.50'), 'dropoffTime': datetime.datetime(2016, 1, 1, 3, 15, 54), 'tolls_amount': Decimal('0.00'), 'tripDistance': Decimal('3.73'), 'pickupPoint': <Point object at 0x10c5ab90>, 'totalAmount': Decimal('18.96'), 'passengerCount': 2, 'improvementSurcharge': Decimal('0.30'), 'PULocationID': None, 'id': 1035102, 'fareAmount': Decimal('14.50'), 'vendorID': 2}, {'storeAndFwdFlag': False, 'pickupTime': datetime.datetime(2016, 1, 1, 3, 9, 6), 'dropoffPoint': <Point object at 0x10c5ae90>, 'tripType': 1, 'DOLocationID': None, 'paymentType': 2, 'tipAmount': Decimal('0.00'), 'rateCodeID': 1, 'extra': Decimal('0.50'), 'pickup_district': 'Rego Park', 'MTATax': Decimal('0.50'), 'dropoffTime': datetime.datetime(2016, 1, 1, 3, 15, 35), 'tolls_amount': Decimal('0.00'), 'tripDistance': Decimal('1.36'), 'pickupPoint': <Point object at 0x10c5ad90>, 'totalAmount': Decimal('8.30'), 'passengerCount': 1, 'improvementSurcharge': Decimal('0.30'), 'PULocationID': None, 'id': 1035103, 'fareAmount': Decimal('7.00'), 'vendorID': 2}, {'storeAndFwdFlag': False, 'pickupTime': datetime.datetime(2016, 1, 1, 3, 3, 29), 'dropoffPoint': <Point object at 0x10c5d110>, 'tripType': 1, 'DOLocationID': None, 'paymentType': 2, 'tipAmount': Decimal('0.00'), 'rateCodeID': 1, 'extra': Decimal('0.50'), 'pickup_district': 'Astoria', 'MTATax': Decimal('0.50'), 'dropoffTime': datetime.datetime(2016, 1, 1, 3, 16, 3), 'tolls_amount': Decimal('0.00'), 'tripDistance': Decimal('2.83'), 'pickupPoint': <Point object at 0x10c5af90>, 'totalAmount': Decimal('12.80'), 'passengerCount': 1, 'improvementSurcharge': Decimal('0.30'), 'PULocationID': None, 'id': 1035104, 'fareAmount': Decimal('11.50'), 'vendorID': 2}, {'storeAndFwdFlag': False, 'pickupTime': datetime.datetime(2016, 1, 1, 3, 1, 8), 'dropoffPoint': <Point object at 0x10c5d310>, 'tripType': 1, 'DOLocationID': None, 'paymentType': 2, 'tipAmount': Decimal('0.00'), 'rateCodeID': 1, 'extra': Decimal('0.50'), 'pickup_district': 'Carroll Gardens-Columbia Street-Red Hook', 'MTATax': Decimal('0.50'), 'dropoffTime': datetime.datetime(2016, 1, 1, 3, 15, 57), 'tolls_amount': Decimal('0.00'), 'tripDistance': Decimal('2.09'), 'pickupPoint': <Point object at 0x10c5d210>, 'totalAmount': Decimal('12.80'), 'passengerCount': 1, 'improvementSurcharge': Decimal('0.30'), 'PULocationID': None, 'id': 1035105, 'fareAmount': Decimal('11.50'), 'vendorID': 2}, {'storeAndFwdFlag': False, 'pickupTime': datetime.datetime(2016, 1, 1, 3, 6, 15), 'dropoffPoint': <Point object at 0x10c5d510>, 'tripType': 1, 'DOLocationID': None, 'paymentType': 2, 'tipAmount': Decimal('0.00'), 'rateCodeID': 1, 'extra': Decimal('0.50'), 'pickup_district': 'Marble Hill-Inwood', 'MTATax': Decimal('0.50'), 'dropoffTime': datetime.datetime(2016, 1, 1, 3, 13, 28), 'tolls_amount': Decimal('0.00'), 'tripDistance': Decimal('1.48'), 'pickupPoint': <Point object at 0x10c5d410>, 'totalAmount': Decimal('8.80'), 'passengerCount': 5, 'improvementSurcharge': Decimal('0.30'), 'PULocationID': None, 'id': 1035106, 'fareAmount': Decimal('7.50'), 'vendorID': 2}, {'storeAndFwdFlag': False, 'pickupTime': datetime.datetime(2016, 1, 1, 3, 4, 19), 'dropoffPoint': <Point object at 0x10c5d710>, 'tripType': 1, 'DOLocationID': None, 'paymentType': 1, 'tipAmount': Decimal('3.46'), 'rateCodeID': 1, 'extra': Decimal('0.50'), 'pickup_district': 'Carroll Gardens-Columbia Street-Red Hook', 'MTATax': Decimal('0.50'), 'dropoffTime': datetime.datetime(2016, 1, 1, 3, 15, 45), 'tolls_amount': Decimal('0.00'), 'tripDistance': Decimal('4.76'), 'pickupPoint': <Point object at 0x10c5d610>, 'totalAmount': Decimal('20.76'), 'passengerCount': 1, 'improvementSurcharge': Decimal('0.30'), 'PULocationID': None, 'id': 1035107, 'fareAmount': Decimal('16.00'), 'vendorID': 2}, {'storeAndFwdFlag': False, 'pickupTime': datetime.datetime(2016, 1, 1, 3, 6, 8), 'dropoffPoint': <Point object at 0x10c5d910>, 'tripType': 1, 'DOLocationID': None, 'paymentType': 2, 'tipAmount': Decimal('0.00'), 'rateCodeID': 1, 'extra': Decimal('0.50'), 'pickup_district': 'Old Astoria', 'MTATax': Decimal('0.50'), 'dropoffTime': datetime.datetime(2016, 1, 1, 3, 14, 48), 'tolls_amount': Decimal('0.00'), 'tripDistance': Decimal('1.79'), 'pickupPoint': <Point object at 0x10c5d810>, 'totalAmount': Decimal('9.30'), 'passengerCount': 1, 'improvementSurcharge': Decimal('0.30'), 'PULocationID': None, 'id': 1035108, 'fareAmount': Decimal('8.00'), 'vendorID': 2}, '...(remaining elements truncated)...']>"
      ]
     },
     "execution_count": 28,
     "metadata": {},
     "output_type": "execute_result"
    }
   ],
   "source": [
    "from django.db.models import OuterRef, Subquery\n",
    "city = CityDistrict.objects.filter(shape__contains=OuterRef('pickupPoint'))\n",
    "trips.annotate(pickup_district = Subquery(cityf.values('name'))).values()"
   ]
  },
  {
   "cell_type": "code",
   "execution_count": null,
   "metadata": {
    "collapsed": true
   },
   "outputs": [],
   "source": [
    "from django.db.models import OuterRef, Subquery\n",
    "from taxi.models import Trip, CityDistrict, BoroughDistrict\n",
    "pickupcity = CityDistrict.objects.filter(shape__contains=OuterRef('pickupPoint')).value\n",
    "dropoffcity = CityDistrict.objects.filter(shape__contains=OuterRef('dropoffPoint'))\n",
    "Trip.objects.all().update(pickupDistrict_id = Subquery(pickupcity.first()),pickupDistrict = Subquery(dropoffcity.first()))"
   ]
  },
  {
   "cell_type": "code",
   "execution_count": 5,
   "metadata": {
    "collapsed": true
   },
   "outputs": [],
   "source": [
    "from django.db.models import Count, Sum\n",
    "edges = t.trips.all().values('pickupDistrict','dropoffDistrict').order_by().annotate(weight=Count('pk'))"
   ]
  },
  {
   "cell_type": "code",
   "execution_count": 11,
   "metadata": {},
   "outputs": [
    {
     "name": "stdout",
     "output_type": "stream",
     "text": [
      "Mini Test\n"
     ]
    },
    {
     "data": {
      "text/plain": [
       "[<Edge: Edge object>,\n",
       " <Edge: Edge object>,\n",
       " <Edge: Edge object>,\n",
       " <Edge: Edge object>,\n",
       " <Edge: Edge object>,\n",
       " <Edge: Edge object>,\n",
       " <Edge: Edge object>,\n",
       " <Edge: Edge object>,\n",
       " <Edge: Edge object>,\n",
       " <Edge: Edge object>,\n",
       " <Edge: Edge object>,\n",
       " <Edge: Edge object>,\n",
       " <Edge: Edge object>,\n",
       " <Edge: Edge object>,\n",
       " <Edge: Edge object>,\n",
       " <Edge: Edge object>,\n",
       " <Edge: Edge object>,\n",
       " <Edge: Edge object>,\n",
       " <Edge: Edge object>,\n",
       " <Edge: Edge object>,\n",
       " <Edge: Edge object>,\n",
       " <Edge: Edge object>,\n",
       " <Edge: Edge object>,\n",
       " <Edge: Edge object>,\n",
       " <Edge: Edge object>,\n",
       " <Edge: Edge object>,\n",
       " <Edge: Edge object>,\n",
       " <Edge: Edge object>,\n",
       " <Edge: Edge object>,\n",
       " <Edge: Edge object>,\n",
       " <Edge: Edge object>,\n",
       " <Edge: Edge object>,\n",
       " <Edge: Edge object>,\n",
       " <Edge: Edge object>,\n",
       " <Edge: Edge object>,\n",
       " <Edge: Edge object>,\n",
       " <Edge: Edge object>,\n",
       " <Edge: Edge object>,\n",
       " <Edge: Edge object>,\n",
       " <Edge: Edge object>,\n",
       " <Edge: Edge object>,\n",
       " <Edge: Edge object>,\n",
       " <Edge: Edge object>,\n",
       " <Edge: Edge object>,\n",
       " <Edge: Edge object>,\n",
       " <Edge: Edge object>,\n",
       " <Edge: Edge object>,\n",
       " <Edge: Edge object>,\n",
       " <Edge: Edge object>,\n",
       " <Edge: Edge object>,\n",
       " <Edge: Edge object>,\n",
       " <Edge: Edge object>,\n",
       " <Edge: Edge object>,\n",
       " <Edge: Edge object>,\n",
       " <Edge: Edge object>,\n",
       " <Edge: Edge object>,\n",
       " <Edge: Edge object>,\n",
       " <Edge: Edge object>,\n",
       " <Edge: Edge object>,\n",
       " <Edge: Edge object>,\n",
       " <Edge: Edge object>,\n",
       " <Edge: Edge object>,\n",
       " <Edge: Edge object>,\n",
       " <Edge: Edge object>,\n",
       " <Edge: Edge object>,\n",
       " <Edge: Edge object>,\n",
       " <Edge: Edge object>,\n",
       " <Edge: Edge object>,\n",
       " <Edge: Edge object>,\n",
       " <Edge: Edge object>,\n",
       " <Edge: Edge object>,\n",
       " <Edge: Edge object>,\n",
       " <Edge: Edge object>,\n",
       " <Edge: Edge object>,\n",
       " <Edge: Edge object>,\n",
       " <Edge: Edge object>,\n",
       " <Edge: Edge object>,\n",
       " <Edge: Edge object>,\n",
       " <Edge: Edge object>,\n",
       " <Edge: Edge object>,\n",
       " <Edge: Edge object>,\n",
       " <Edge: Edge object>,\n",
       " <Edge: Edge object>,\n",
       " <Edge: Edge object>,\n",
       " <Edge: Edge object>,\n",
       " <Edge: Edge object>,\n",
       " <Edge: Edge object>,\n",
       " <Edge: Edge object>]"
      ]
     },
     "execution_count": 11,
     "metadata": {},
     "output_type": "execute_result"
    }
   ],
   "source": [
    "from taxi.models import Trip, Tripset, Edge\n",
    "t = Tripset.objects.all().get()\n",
    "print(t)\n",
    "#t.create_graph()\n",
    "Edge.objects.bulk_create([Edge(\n",
    "    tail_id = e['pickupDistrict'],\n",
    "    head_id = e['dropoffDistrict'],\n",
    "    weight = e['weight'],\n",
    "    tripset = t) for e in edges])"
   ]
  },
  {
   "cell_type": "code",
   "execution_count": null,
   "metadata": {},
   "outputs": [
    {
     "name": "stderr",
     "output_type": "stream",
     "text": [
      "d:\\ProgramData\\Anaconda3\\envs\\python34\\lib\\site-packages\\ipykernel\\__main__.py:6: RemovedInDjango20Warning: on_delete will be a required arg for ForeignKey in Django 2.0. Set it to models.CASCADE on models and in existing migrations if you want to maintain the current default behavior. See https://docs.djangoproject.com/en/1.11/ref/models/fields/#django.db.models.ForeignKey.on_delete\n"
     ]
    }
   ],
   "source": [
    "from django.db.models import OuterRef, Subquery\n",
    "from taxi.models import Trip, CityDistrict, BoroughDistrict\n",
    "from django.contrib.gis.db import models\n",
    "pickupcity = CityDistrict.objects.filter(shape__contains=OuterRef('pickupPoint'))[:1].values_list('id',flat=True)\n",
    "dropoffcity = CityDistrict.objects.filter(shape__contains=OuterRef('dropoffPoint'))[:1].values_list('id',flat=True)\n",
    "field = models.ForeignKey('District')\n",
    "Trip.objects.all().update(pickupDistrict = Subquery(pickupcity,output_field=field),\n",
    "                     dropoffDistrict = Subquery(dropoffcity,output_field=field))"
   ]
  },
  {
   "cell_type": "code",
   "execution_count": 11,
   "metadata": {},
   "outputs": [
    {
     "name": "stdout",
     "output_type": "stream",
     "text": [
      "<QuerySet [{'trips': 1035188}, {'trips': 1035187}, {'trips': 1035186}, {'trips': 1035185}, {'trips': 1035184}, {'trips': 1035183}, {'trips': 1035182}, {'trips': 1035181}, {'trips': 1035180}, {'trips': 1035179}, {'trips': 1035178}, {'trips': 1035177}, {'trips': 1035176}, {'trips': 1035175}, {'trips': 1035174}, {'trips': 1035173}, {'trips': 1035172}, {'trips': 1035171}, {'trips': 1035170}, {'trips': 1035169}, '...(remaining elements truncated)...']>\n",
      "SELECT \"taxi_trip\".\"id\", \"taxi_trip\".\"vendorID\", \"taxi_trip\".\"pickupTime\", \"taxi_trip\".\"dropoffTime\", \"taxi_trip\".\"storeAndFwdFlag\", \"taxi_trip\".\"rateCodeID\", \"taxi_trip\".\"pickupPoint\", \"taxi_trip\".\"dropoffPoint\", \"taxi_trip\".\"passengerCount\", \"taxi_trip\".\"tripDistance\", \"taxi_trip\".\"fareAmount\", \"taxi_trip\".\"extra\", \"taxi_trip\".\"MTATax\", \"taxi_trip\".\"tipAmount\", \"taxi_trip\".\"tolls_amount\", \"taxi_trip\".\"improvementSurcharge\", \"taxi_trip\".\"totalAmount\", \"taxi_trip\".\"paymentType\", \"taxi_trip\".\"tripType\", \"taxi_trip\".\"PULocationID\", \"taxi_trip\".\"DOLocationID\", \"taxi_trip\".\"pickupDistrict_id\", \"taxi_trip\".\"dropoffDistrict_id\" FROM \"taxi_trip\" WHERE \"taxi_trip\".\"id\" IN (SELECT U1.\"trip_id\" AS Col1 FROM \"taxi_tripset\" U0 LEFT OUTER JOIN \"taxi_tripset_trips\" U1 ON (U0.\"id\" = U1.\"tripset_id\") WHERE U0.\"id\" = 27)\n"
     ]
    }
   ],
   "source": [
    "from taxi.models import Trip,Tripset\n",
    "need_trip = Tripset.objects.filter(id=27).values('trips')\n",
    "print(need_trip)\n",
    "trips = Trip.objects.filter(id__in=need_trip).query\n",
    "print(trips)"
   ]
  }
 ],
 "metadata": {
  "anaconda-cloud": {},
  "kernelspec": {
   "display_name": "Python [conda env:python34]",
   "language": "python",
   "name": "conda-env-python34-py"
  },
  "language_info": {
   "codemirror_mode": {
    "name": "ipython",
    "version": 3
   },
   "file_extension": ".py",
   "mimetype": "text/x-python",
   "name": "python",
   "nbconvert_exporter": "python",
   "pygments_lexer": "ipython3",
   "version": "3.4.5"
  }
 },
 "nbformat": 4,
 "nbformat_minor": 2
}
